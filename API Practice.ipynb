{
 "cells": [
  {
   "cell_type": "code",
   "execution_count": 39,
   "metadata": {},
   "outputs": [],
   "source": [
    "import json\n",
    "import requests\n",
    "\n",
    "# Load secrets from credentials.json\n",
    "url = 'https://api.foursquare.com/v2/venues/explore'\n",
    "with open('.secrets/credentials.json') as f:\n",
    "    params = json.load(f)\n",
    "    \n",
    "params['v'] = '20180323'          #version\n",
    "params['ll'] = '47.608,-122.336', #lat & long\n",
    "params['query'] = 'pilates',\n",
    "params['limit'] = 100               #how many to give back\n",
    "\n",
    "response = requests.get(url=url, params=params)\n",
    "data = json.loads(response.text)"
   ]
  },
  {
   "cell_type": "code",
   "execution_count": 40,
   "metadata": {},
   "outputs": [
    {
     "data": {
      "text/plain": [
       "dict_keys(['meta', 'response'])"
      ]
     },
     "execution_count": 40,
     "metadata": {},
     "output_type": "execute_result"
    }
   ],
   "source": [
    "data.keys()"
   ]
  },
  {
   "cell_type": "code",
   "execution_count": 41,
   "metadata": {},
   "outputs": [
    {
     "data": {
      "text/plain": [
       "dict_keys(['suggestedFilters', 'suggestedRadius', 'headerLocation', 'headerFullLocation', 'headerLocationGranularity', 'query', 'totalResults', 'suggestedBounds', 'groups'])"
      ]
     },
     "execution_count": 41,
     "metadata": {},
     "output_type": "execute_result"
    }
   ],
   "source": [
    "data['response'].keys()"
   ]
  },
  {
   "cell_type": "code",
   "execution_count": 42,
   "metadata": {},
   "outputs": [
    {
     "data": {
      "text/plain": [
       "12"
      ]
     },
     "execution_count": 42,
     "metadata": {},
     "output_type": "execute_result"
    }
   ],
   "source": [
    "len(data['response']['groups'][0]['items'])"
   ]
  },
  {
   "cell_type": "code",
   "execution_count": 43,
   "metadata": {},
   "outputs": [],
   "source": [
    "results = data['response']['groups'][0]['items']"
   ]
  },
  {
   "cell_type": "code",
   "execution_count": 44,
   "metadata": {},
   "outputs": [],
   "source": [
    "venues = []\n",
    "venue_names = []\n",
    "for result in results:\n",
    "    venues.append(result['venue'])\n",
    "    venue_names.append(result['venue']['name'])"
   ]
  },
  {
   "cell_type": "code",
   "execution_count": 45,
   "metadata": {},
   "outputs": [
    {
     "data": {
      "text/plain": [
       "['Washington Athletic Club',\n",
       " 'ZUM fitness',\n",
       " 'Seattle Athletic Club',\n",
       " 'Kinesia Pilates Studio',\n",
       " 'Element Pilates',\n",
       " 'Go Total Body Fitness',\n",
       " 'Pilates Seattle International',\n",
       " 'Atlas Pilates',\n",
       " 'Pilates ProWorks',\n",
       " 'Club Pilates',\n",
       " 'Bria Pilates & Wellness',\n",
       " 'Conscious Body Pilates']"
      ]
     },
     "execution_count": 45,
     "metadata": {},
     "output_type": "execute_result"
    }
   ],
   "source": [
    "venue_names"
   ]
  },
  {
   "cell_type": "code",
   "execution_count": 47,
   "metadata": {},
   "outputs": [
    {
     "data": {
      "text/html": [
       "<div>\n",
       "<style scoped>\n",
       "    .dataframe tbody tr th:only-of-type {\n",
       "        vertical-align: middle;\n",
       "    }\n",
       "\n",
       "    .dataframe tbody tr th {\n",
       "        vertical-align: top;\n",
       "    }\n",
       "\n",
       "    .dataframe thead th {\n",
       "        text-align: right;\n",
       "    }\n",
       "</style>\n",
       "<table border=\"1\" class=\"dataframe\">\n",
       "  <thead>\n",
       "    <tr style=\"text-align: right;\">\n",
       "      <th></th>\n",
       "      <th>beenHere</th>\n",
       "      <th>categories</th>\n",
       "      <th>contact</th>\n",
       "      <th>hereNow</th>\n",
       "      <th>id</th>\n",
       "      <th>location</th>\n",
       "      <th>name</th>\n",
       "      <th>photos</th>\n",
       "      <th>stats</th>\n",
       "      <th>venuePage</th>\n",
       "      <th>verified</th>\n",
       "    </tr>\n",
       "  </thead>\n",
       "  <tbody>\n",
       "    <tr>\n",
       "      <th>0</th>\n",
       "      <td>{'count': 0, 'lastCheckinExpiredAt': 0, 'marke...</td>\n",
       "      <td>[{'id': '4bf58dd8d48988d176941735', 'name': 'G...</td>\n",
       "      <td>{}</td>\n",
       "      <td>{'count': 0, 'summary': 'Nobody here', 'groups...</td>\n",
       "      <td>4597de79f964a5207b401fe3</td>\n",
       "      <td>{'address': '1325 6th Ave', 'crossStreet': 'at...</td>\n",
       "      <td>Washington Athletic Club</td>\n",
       "      <td>{'count': 0, 'groups': []}</td>\n",
       "      <td>{'tipCount': 0, 'usersCount': 0, 'checkinsCoun...</td>\n",
       "      <td>NaN</td>\n",
       "      <td>False</td>\n",
       "    </tr>\n",
       "    <tr>\n",
       "      <th>1</th>\n",
       "      <td>{'count': 0, 'lastCheckinExpiredAt': 0, 'marke...</td>\n",
       "      <td>[{'id': '4bf58dd8d48988d176941735', 'name': 'G...</td>\n",
       "      <td>{}</td>\n",
       "      <td>{'count': 0, 'summary': 'Nobody here', 'groups...</td>\n",
       "      <td>4a427125f964a520dea51fe3</td>\n",
       "      <td>{'address': '1813 7th Ave', 'lat': 47.61400529...</td>\n",
       "      <td>ZUM fitness</td>\n",
       "      <td>{'count': 0, 'groups': []}</td>\n",
       "      <td>{'tipCount': 0, 'usersCount': 0, 'checkinsCoun...</td>\n",
       "      <td>{'id': '63557214'}</td>\n",
       "      <td>True</td>\n",
       "    </tr>\n",
       "    <tr>\n",
       "      <th>2</th>\n",
       "      <td>{'count': 0, 'lastCheckinExpiredAt': 0, 'marke...</td>\n",
       "      <td>[{'id': '4bf58dd8d48988d176941735', 'name': 'G...</td>\n",
       "      <td>{}</td>\n",
       "      <td>{'count': 1, 'summary': 'One other person is h...</td>\n",
       "      <td>4a8c22ecf964a520090d20e3</td>\n",
       "      <td>{'address': '2020 Western Ave', 'lat': 47.6106...</td>\n",
       "      <td>Seattle Athletic Club</td>\n",
       "      <td>{'count': 0, 'groups': []}</td>\n",
       "      <td>{'tipCount': 0, 'usersCount': 0, 'checkinsCoun...</td>\n",
       "      <td>NaN</td>\n",
       "      <td>True</td>\n",
       "    </tr>\n",
       "    <tr>\n",
       "      <th>3</th>\n",
       "      <td>{'count': 0, 'lastCheckinExpiredAt': 0, 'marke...</td>\n",
       "      <td>[{'id': '5744ccdfe4b0c0459246b4b2', 'name': 'P...</td>\n",
       "      <td>{}</td>\n",
       "      <td>{'count': 0, 'summary': 'Nobody here', 'groups...</td>\n",
       "      <td>4e31dc941f6e313d8b66fa25</td>\n",
       "      <td>{'address': '314 1st Ave S', 'lat': 47.5995221...</td>\n",
       "      <td>Kinesia Pilates Studio</td>\n",
       "      <td>{'count': 0, 'groups': []}</td>\n",
       "      <td>{'tipCount': 0, 'usersCount': 0, 'checkinsCoun...</td>\n",
       "      <td>{'id': '48823099'}</td>\n",
       "      <td>True</td>\n",
       "    </tr>\n",
       "    <tr>\n",
       "      <th>4</th>\n",
       "      <td>{'count': 0, 'lastCheckinExpiredAt': 0, 'marke...</td>\n",
       "      <td>[{'id': '5744ccdfe4b0c0459246b4b2', 'name': 'P...</td>\n",
       "      <td>{}</td>\n",
       "      <td>{'count': 0, 'summary': 'Nobody here', 'groups...</td>\n",
       "      <td>4b6aff32f964a52076eb2be3</td>\n",
       "      <td>{'address': '500 E Pike St', 'lat': 47.6134092...</td>\n",
       "      <td>Element Pilates</td>\n",
       "      <td>{'count': 0, 'groups': []}</td>\n",
       "      <td>{'tipCount': 0, 'usersCount': 0, 'checkinsCoun...</td>\n",
       "      <td>NaN</td>\n",
       "      <td>False</td>\n",
       "    </tr>\n",
       "  </tbody>\n",
       "</table>\n",
       "</div>"
      ],
      "text/plain": [
       "                                            beenHere  \\\n",
       "0  {'count': 0, 'lastCheckinExpiredAt': 0, 'marke...   \n",
       "1  {'count': 0, 'lastCheckinExpiredAt': 0, 'marke...   \n",
       "2  {'count': 0, 'lastCheckinExpiredAt': 0, 'marke...   \n",
       "3  {'count': 0, 'lastCheckinExpiredAt': 0, 'marke...   \n",
       "4  {'count': 0, 'lastCheckinExpiredAt': 0, 'marke...   \n",
       "\n",
       "                                          categories contact  \\\n",
       "0  [{'id': '4bf58dd8d48988d176941735', 'name': 'G...      {}   \n",
       "1  [{'id': '4bf58dd8d48988d176941735', 'name': 'G...      {}   \n",
       "2  [{'id': '4bf58dd8d48988d176941735', 'name': 'G...      {}   \n",
       "3  [{'id': '5744ccdfe4b0c0459246b4b2', 'name': 'P...      {}   \n",
       "4  [{'id': '5744ccdfe4b0c0459246b4b2', 'name': 'P...      {}   \n",
       "\n",
       "                                             hereNow  \\\n",
       "0  {'count': 0, 'summary': 'Nobody here', 'groups...   \n",
       "1  {'count': 0, 'summary': 'Nobody here', 'groups...   \n",
       "2  {'count': 1, 'summary': 'One other person is h...   \n",
       "3  {'count': 0, 'summary': 'Nobody here', 'groups...   \n",
       "4  {'count': 0, 'summary': 'Nobody here', 'groups...   \n",
       "\n",
       "                         id  \\\n",
       "0  4597de79f964a5207b401fe3   \n",
       "1  4a427125f964a520dea51fe3   \n",
       "2  4a8c22ecf964a520090d20e3   \n",
       "3  4e31dc941f6e313d8b66fa25   \n",
       "4  4b6aff32f964a52076eb2be3   \n",
       "\n",
       "                                            location  \\\n",
       "0  {'address': '1325 6th Ave', 'crossStreet': 'at...   \n",
       "1  {'address': '1813 7th Ave', 'lat': 47.61400529...   \n",
       "2  {'address': '2020 Western Ave', 'lat': 47.6106...   \n",
       "3  {'address': '314 1st Ave S', 'lat': 47.5995221...   \n",
       "4  {'address': '500 E Pike St', 'lat': 47.6134092...   \n",
       "\n",
       "                       name                      photos  \\\n",
       "0  Washington Athletic Club  {'count': 0, 'groups': []}   \n",
       "1               ZUM fitness  {'count': 0, 'groups': []}   \n",
       "2     Seattle Athletic Club  {'count': 0, 'groups': []}   \n",
       "3    Kinesia Pilates Studio  {'count': 0, 'groups': []}   \n",
       "4           Element Pilates  {'count': 0, 'groups': []}   \n",
       "\n",
       "                                               stats           venuePage  \\\n",
       "0  {'tipCount': 0, 'usersCount': 0, 'checkinsCoun...                 NaN   \n",
       "1  {'tipCount': 0, 'usersCount': 0, 'checkinsCoun...  {'id': '63557214'}   \n",
       "2  {'tipCount': 0, 'usersCount': 0, 'checkinsCoun...                 NaN   \n",
       "3  {'tipCount': 0, 'usersCount': 0, 'checkinsCoun...  {'id': '48823099'}   \n",
       "4  {'tipCount': 0, 'usersCount': 0, 'checkinsCoun...                 NaN   \n",
       "\n",
       "   verified  \n",
       "0     False  \n",
       "1      True  \n",
       "2      True  \n",
       "3      True  \n",
       "4     False  "
      ]
     },
     "execution_count": 47,
     "metadata": {},
     "output_type": "execute_result"
    }
   ],
   "source": [
    "import pandas as pd\n",
    "pd.DataFrame(venues).head()"
   ]
  },
  {
   "cell_type": "code",
   "execution_count": null,
   "metadata": {},
   "outputs": [],
   "source": []
  }
 ],
 "metadata": {
  "kernelspec": {
   "display_name": "Python 3",
   "language": "python",
   "name": "python3"
  },
  "language_info": {
   "codemirror_mode": {
    "name": "ipython",
    "version": 3
   },
   "file_extension": ".py",
   "mimetype": "text/x-python",
   "name": "python",
   "nbconvert_exporter": "python",
   "pygments_lexer": "ipython3",
   "version": "3.7.1"
  }
 },
 "nbformat": 4,
 "nbformat_minor": 2
}
