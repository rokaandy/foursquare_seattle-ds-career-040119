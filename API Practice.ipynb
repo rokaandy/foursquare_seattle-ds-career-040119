{
 "cells": [
  {
   "cell_type": "code",
   "execution_count": 94,
   "metadata": {},
   "outputs": [],
   "source": [
    "import json\n",
    "import requests\n",
    "\n",
    "# Load secrets from credentials.json\n",
    "url = 'https://api.foursquare.com/v2/venues/explore'\n",
    "with open('.secrets/credentials.json') as f:\n",
    "    params = json.load(f)\n",
    "    \n",
    "params['v'] = '20180323'          #version\n",
    "params['ll'] = '47.608,-122.336', #lat & long\n",
    "#params['radius'] = 10000\n",
    "params['query'] = 'boba',\n",
    "params['limit'] = 100               #how many to give back\n",
    "\n",
    "response = requests.get(url=url, params=params)\n",
    "data = json.loads(response.text)"
   ]
  },
  {
   "cell_type": "code",
   "execution_count": 95,
   "metadata": {},
   "outputs": [
    {
     "data": {
      "text/plain": [
       "dict_keys(['meta', 'response'])"
      ]
     },
     "execution_count": 95,
     "metadata": {},
     "output_type": "execute_result"
    }
   ],
   "source": [
    "data.keys()"
   ]
  },
  {
   "cell_type": "code",
   "execution_count": 96,
   "metadata": {},
   "outputs": [
    {
     "data": {
      "text/plain": [
       "dict_keys(['suggestedFilters', 'suggestedRadius', 'headerLocation', 'headerFullLocation', 'headerLocationGranularity', 'query', 'totalResults', 'suggestedBounds', 'groups'])"
      ]
     },
     "execution_count": 96,
     "metadata": {},
     "output_type": "execute_result"
    }
   ],
   "source": [
    "data['response'].keys()"
   ]
  },
  {
   "cell_type": "code",
   "execution_count": 97,
   "metadata": {},
   "outputs": [
    {
     "data": {
      "text/plain": [
       "13"
      ]
     },
     "execution_count": 97,
     "metadata": {},
     "output_type": "execute_result"
    }
   ],
   "source": [
    "len(data['response']['groups'][0]['items'])"
   ]
  },
  {
   "cell_type": "code",
   "execution_count": 98,
   "metadata": {},
   "outputs": [
    {
     "data": {
      "text/plain": [
       "{'reasons': {'count': 0,\n",
       "  'items': [{'summary': 'This spot is popular',\n",
       "    'type': 'general',\n",
       "    'reasonName': 'globalInteractionReason'}]},\n",
       " 'venue': {'id': '4a8f1db7f964a520051420e3',\n",
       "  'name': 'Oasis Tea Zone',\n",
       "  'contact': {},\n",
       "  'location': {'address': '519 6th Ave S',\n",
       "   'crossStreet': 'At S Weller St',\n",
       "   'lat': 47.59763996958864,\n",
       "   'lng': -122.32651556000312,\n",
       "   'labeledLatLngs': [{'label': 'display',\n",
       "     'lat': 47.59763996958864,\n",
       "     'lng': -122.32651556000312}],\n",
       "   'distance': 1355,\n",
       "   'postalCode': '98104',\n",
       "   'cc': 'US',\n",
       "   'city': 'Seattle',\n",
       "   'state': 'WA',\n",
       "   'country': 'United States',\n",
       "   'formattedAddress': ['519 6th Ave S (At S Weller St)',\n",
       "    'Seattle, WA 98104',\n",
       "    'United States']},\n",
       "  'categories': [{'id': '52e81612bcbc57f1066b7a0c',\n",
       "    'name': 'Bubble Tea Shop',\n",
       "    'pluralName': 'Bubble Tea Shops',\n",
       "    'shortName': 'Bubble Tea',\n",
       "    'icon': {'prefix': 'https://ss3.4sqi.net/img/categories_v2/food/bubble_',\n",
       "     'suffix': '.png'},\n",
       "    'primary': True}],\n",
       "  'verified': True,\n",
       "  'stats': {'tipCount': 0,\n",
       "   'usersCount': 0,\n",
       "   'checkinsCount': 0,\n",
       "   'visitsCount': 0},\n",
       "  'beenHere': {'count': 0,\n",
       "   'lastCheckinExpiredAt': 0,\n",
       "   'marked': False,\n",
       "   'unconfirmedCount': 0},\n",
       "  'photos': {'count': 0, 'groups': []},\n",
       "  'hereNow': {'count': 0, 'summary': 'Nobody here', 'groups': []}},\n",
       " 'flags': {'outsideRadius': True},\n",
       " 'referralId': 'e-0-4a8f1db7f964a520051420e3-0'}"
      ]
     },
     "execution_count": 98,
     "metadata": {},
     "output_type": "execute_result"
    }
   ],
   "source": [
    "results = data['response']['groups'][0]['items']\n",
    "results[0]"
   ]
  },
  {
   "cell_type": "code",
   "execution_count": 104,
   "metadata": {},
   "outputs": [],
   "source": [
    "venues = []\n",
    "venue_names = []\n",
    "for result in results:\n",
    "    venues.append(result['venue'])\n",
    "    venue_names.append(result['venue']['name'])"
   ]
  },
  {
   "cell_type": "code",
   "execution_count": 100,
   "metadata": {
    "scrolled": true
   },
   "outputs": [
    {
     "data": {
      "text/plain": [
       "['Oasis Tea Zone',\n",
       " 'Young Tea',\n",
       " 'Seattle Best Tea',\n",
       " 'Pho Saigon Asian Cuisine',\n",
       " 'Blank Space Cafe',\n",
       " 'Ambrosia Cafe',\n",
       " 'Oasis Tea Zone',\n",
       " 'Pacific Cafe Hong Kong Kitchen',\n",
       " 'Boiling Point 沸點',\n",
       " 'Stateside',\n",
       " 'Yummy House Bakery',\n",
       " 'Little Sheep Mongolian Hot Pot, Seattle',\n",
       " 'Blackball']"
      ]
     },
     "execution_count": 100,
     "metadata": {},
     "output_type": "execute_result"
    }
   ],
   "source": [
    "venue_names"
   ]
  },
  {
   "cell_type": "code",
   "execution_count": null,
   "metadata": {},
   "outputs": [],
   "source": []
  },
  {
   "cell_type": "code",
   "execution_count": 79,
   "metadata": {},
   "outputs": [
    {
     "data": {
      "text/html": [
       "<div>\n",
       "<style scoped>\n",
       "    .dataframe tbody tr th:only-of-type {\n",
       "        vertical-align: middle;\n",
       "    }\n",
       "\n",
       "    .dataframe tbody tr th {\n",
       "        vertical-align: top;\n",
       "    }\n",
       "\n",
       "    .dataframe thead th {\n",
       "        text-align: right;\n",
       "    }\n",
       "</style>\n",
       "<table border=\"1\" class=\"dataframe\">\n",
       "  <thead>\n",
       "    <tr style=\"text-align: right;\">\n",
       "      <th></th>\n",
       "      <th>flags</th>\n",
       "      <th>reasons</th>\n",
       "      <th>referralId</th>\n",
       "      <th>venue</th>\n",
       "    </tr>\n",
       "  </thead>\n",
       "  <tbody>\n",
       "    <tr>\n",
       "      <th>0</th>\n",
       "      <td>NaN</td>\n",
       "      <td>{'count': 0, 'items': [{'summary': 'This spot ...</td>\n",
       "      <td>e-0-42f54f00f964a520cb261fe3-0</td>\n",
       "      <td>{'id': '42f54f00f964a520cb261fe3', 'name': 'Wi...</td>\n",
       "    </tr>\n",
       "    <tr>\n",
       "      <th>1</th>\n",
       "      <td>NaN</td>\n",
       "      <td>{'count': 0, 'items': [{'summary': 'This spot ...</td>\n",
       "      <td>e-0-56ca5a05cd10c7b2ee77b104-1</td>\n",
       "      <td>{'id': '56ca5a05cd10c7b2ee77b104', 'name': 'No...</td>\n",
       "    </tr>\n",
       "    <tr>\n",
       "      <th>2</th>\n",
       "      <td>NaN</td>\n",
       "      <td>{'count': 0, 'items': [{'summary': 'This spot ...</td>\n",
       "      <td>e-0-4aa18d6cf964a520f74020e3-2</td>\n",
       "      <td>{'id': '4aa18d6cf964a520f74020e3', 'name': 'Fe...</td>\n",
       "    </tr>\n",
       "    <tr>\n",
       "      <th>3</th>\n",
       "      <td>NaN</td>\n",
       "      <td>{'count': 0, 'items': [{'summary': 'This spot ...</td>\n",
       "      <td>e-0-4b1d7670f964a520e11024e3-3</td>\n",
       "      <td>{'id': '4b1d7670f964a520e11024e3', 'name': 'Ha...</td>\n",
       "    </tr>\n",
       "    <tr>\n",
       "      <th>4</th>\n",
       "      <td>NaN</td>\n",
       "      <td>{'count': 0, 'items': [{'summary': 'This spot ...</td>\n",
       "      <td>e-0-40b3de00f964a52031001fe3-4</td>\n",
       "      <td>{'id': '40b3de00f964a52031001fe3', 'name': 'Ma...</td>\n",
       "    </tr>\n",
       "  </tbody>\n",
       "</table>\n",
       "</div>"
      ],
      "text/plain": [
       "  flags                                            reasons  \\\n",
       "0   NaN  {'count': 0, 'items': [{'summary': 'This spot ...   \n",
       "1   NaN  {'count': 0, 'items': [{'summary': 'This spot ...   \n",
       "2   NaN  {'count': 0, 'items': [{'summary': 'This spot ...   \n",
       "3   NaN  {'count': 0, 'items': [{'summary': 'This spot ...   \n",
       "4   NaN  {'count': 0, 'items': [{'summary': 'This spot ...   \n",
       "\n",
       "                       referralId  \\\n",
       "0  e-0-42f54f00f964a520cb261fe3-0   \n",
       "1  e-0-56ca5a05cd10c7b2ee77b104-1   \n",
       "2  e-0-4aa18d6cf964a520f74020e3-2   \n",
       "3  e-0-4b1d7670f964a520e11024e3-3   \n",
       "4  e-0-40b3de00f964a52031001fe3-4   \n",
       "\n",
       "                                               venue  \n",
       "0  {'id': '42f54f00f964a520cb261fe3', 'name': 'Wi...  \n",
       "1  {'id': '56ca5a05cd10c7b2ee77b104', 'name': 'No...  \n",
       "2  {'id': '4aa18d6cf964a520f74020e3', 'name': 'Fe...  \n",
       "3  {'id': '4b1d7670f964a520e11024e3', 'name': 'Ha...  \n",
       "4  {'id': '40b3de00f964a52031001fe3', 'name': 'Ma...  "
      ]
     },
     "execution_count": 79,
     "metadata": {},
     "output_type": "execute_result"
    }
   ],
   "source": [
    "import pandas as pd\n",
    "pd.DataFrame(results).head()"
   ]
  },
  {
   "cell_type": "code",
   "execution_count": null,
   "metadata": {},
   "outputs": [],
   "source": []
  }
 ],
 "metadata": {
  "kernelspec": {
   "display_name": "Python 3",
   "language": "python",
   "name": "python3"
  },
  "language_info": {
   "codemirror_mode": {
    "name": "ipython",
    "version": 3
   },
   "file_extension": ".py",
   "mimetype": "text/x-python",
   "name": "python",
   "nbconvert_exporter": "python",
   "pygments_lexer": "ipython3",
   "version": "3.7.1"
  }
 },
 "nbformat": 4,
 "nbformat_minor": 2
}
