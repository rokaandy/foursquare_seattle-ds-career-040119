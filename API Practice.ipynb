{
 "cells": [
  {
   "cell_type": "code",
   "execution_count": 1,
   "metadata": {},
   "outputs": [],
   "source": [
    "import json\n",
    "import requests\n",
    "\n",
    "# Load secrets from credentials.json\n",
    "url = 'https://api.foursquare.com/v2/venues/explore'\n",
    "with open('.secrets/credentials.json') as f:\n",
    "    params = json.load(f)\n",
    "    \n",
    "params['v'] = '20180323'          #version\n",
    "params['ll'] = '47.587088,-122.23735', #lat & long\n",
    "#params['radius'] = 10000\n",
    "params['query'] = 'boba',\n",
    "params['limit'] = 100               #how many to give back\n",
    "\n",
    "response = requests.get(url=url, params=params)\n",
    "data = json.loads(response.text)"
   ]
  },
  {
   "cell_type": "code",
   "execution_count": 2,
   "metadata": {},
   "outputs": [
    {
     "data": {
      "text/plain": [
       "dict_keys(['meta', 'response'])"
      ]
     },
     "execution_count": 2,
     "metadata": {},
     "output_type": "execute_result"
    }
   ],
   "source": [
    "data.keys()"
   ]
  },
  {
   "cell_type": "code",
   "execution_count": 3,
   "metadata": {},
   "outputs": [
    {
     "data": {
      "text/plain": [
       "dict_keys(['suggestedFilters', 'suggestedRadius', 'headerLocation', 'headerFullLocation', 'headerLocationGranularity', 'query', 'totalResults', 'suggestedBounds', 'groups'])"
      ]
     },
     "execution_count": 3,
     "metadata": {},
     "output_type": "execute_result"
    }
   ],
   "source": [
    "data['response'].keys()"
   ]
  },
  {
   "cell_type": "code",
   "execution_count": 4,
   "metadata": {},
   "outputs": [
    {
     "data": {
      "text/plain": [
       "33"
      ]
     },
     "execution_count": 4,
     "metadata": {},
     "output_type": "execute_result"
    }
   ],
   "source": [
    "len(data['response']['groups'][0]['items'])"
   ]
  },
  {
   "cell_type": "code",
   "execution_count": 5,
   "metadata": {},
   "outputs": [
    {
     "data": {
      "text/plain": [
       "{'reasons': {'count': 0,\n",
       "  'items': [{'summary': 'This spot is popular',\n",
       "    'type': 'general',\n",
       "    'reasonName': 'globalInteractionReason'}]},\n",
       " 'venue': {'id': '4ca90ce0b7106dcba8ee78a5',\n",
       "  'name': 'Din Tai Fung Dumpling House',\n",
       "  'contact': {},\n",
       "  'location': {'address': '700 Bellevue Way NE',\n",
       "   'crossStreet': '700 Bellevue Way NE #280',\n",
       "   'lat': 47.617241079519,\n",
       "   'lng': -122.20079345791164,\n",
       "   'labeledLatLngs': [{'label': 'display',\n",
       "     'lat': 47.617241079519,\n",
       "     'lng': -122.20079345791164}],\n",
       "   'distance': 4335,\n",
       "   'postalCode': '98004',\n",
       "   'cc': 'US',\n",
       "   'city': 'Bellevue',\n",
       "   'state': 'WA',\n",
       "   'country': 'United States',\n",
       "   'formattedAddress': ['700 Bellevue Way NE (700 Bellevue Way NE #280)',\n",
       "    'Bellevue, WA 98004',\n",
       "    'United States']},\n",
       "  'categories': [{'id': '4bf58dd8d48988d108941735',\n",
       "    'name': 'Dumpling Restaurant',\n",
       "    'pluralName': 'Dumpling Restaurants',\n",
       "    'shortName': 'Dumplings',\n",
       "    'icon': {'prefix': 'https://ss3.4sqi.net/img/categories_v2/food/dumplings_',\n",
       "     'suffix': '.png'},\n",
       "    'primary': True}],\n",
       "  'verified': False,\n",
       "  'stats': {'tipCount': 0,\n",
       "   'usersCount': 0,\n",
       "   'checkinsCount': 0,\n",
       "   'visitsCount': 0},\n",
       "  'beenHere': {'count': 0,\n",
       "   'lastCheckinExpiredAt': 0,\n",
       "   'marked': False,\n",
       "   'unconfirmedCount': 0},\n",
       "  'photos': {'count': 0, 'groups': []},\n",
       "  'hereNow': {'count': 0, 'summary': 'Nobody here', 'groups': []}},\n",
       " 'referralId': 'e-0-4ca90ce0b7106dcba8ee78a5-0'}"
      ]
     },
     "execution_count": 5,
     "metadata": {},
     "output_type": "execute_result"
    }
   ],
   "source": [
    "results = data['response']['groups'][0]['items']\n",
    "results[0]"
   ]
  },
  {
   "cell_type": "code",
   "execution_count": 6,
   "metadata": {},
   "outputs": [],
   "source": [
    "venues = []\n",
    "venue_names = []\n",
    "for result in results:\n",
    "    venues.append(result['venue'])\n",
    "    venue_names.append(result['venue']['name'])"
   ]
  },
  {
   "cell_type": "code",
   "execution_count": 7,
   "metadata": {
    "scrolled": true
   },
   "outputs": [
    {
     "data": {
      "text/plain": [
       "['Din Tai Fung Dumpling House',\n",
       " 'Oasis Tea Zone',\n",
       " 'Young Tea',\n",
       " 'Bubble Tea Fresh Fruit',\n",
       " 'Sharetea',\n",
       " 'Seattle Best Tea',\n",
       " 'Ambrosia Cafe',\n",
       " 'Canon',\n",
       " \"T'Latte\",\n",
       " 'Boiling Point',\n",
       " 'Oasis Tea Zone',\n",
       " 'Pacific Cafe Hong Kong Kitchen',\n",
       " 'Tea Republik',\n",
       " 'Hi B3ar',\n",
       " 'Boiling Point 沸點',\n",
       " 'Yogurtland',\n",
       " 'Pho Saigon Asian Cuisine',\n",
       " 'Wow Bubble Tea',\n",
       " 'Little Sheep Mongolian Hot Pot, Seattle',\n",
       " 'Yummy House Bakery',\n",
       " 'Blank Space Cafe',\n",
       " 'Blackball',\n",
       " 'Tapioca Express',\n",
       " 'Yoyo Station',\n",
       " 'Stateside',\n",
       " 'Mee Sum Pastry',\n",
       " 'Yunnie Bubble Tea',\n",
       " 'Bubble Me',\n",
       " 'MoPOP (Museum of Pop Culture (MoPOP))',\n",
       " 'Din Tai Fung 鼎泰豐',\n",
       " 'Kiki Bakery',\n",
       " 'Crossroads Bellevue',\n",
       " 'Jack in the Box']"
      ]
     },
     "execution_count": 7,
     "metadata": {},
     "output_type": "execute_result"
    }
   ],
   "source": [
    "venue_names"
   ]
  },
  {
   "cell_type": "code",
   "execution_count": null,
   "metadata": {},
   "outputs": [],
   "source": []
  },
  {
   "cell_type": "code",
   "execution_count": 8,
   "metadata": {},
   "outputs": [
    {
     "data": {
      "text/html": [
       "<div>\n",
       "<style scoped>\n",
       "    .dataframe tbody tr th:only-of-type {\n",
       "        vertical-align: middle;\n",
       "    }\n",
       "\n",
       "    .dataframe tbody tr th {\n",
       "        vertical-align: top;\n",
       "    }\n",
       "\n",
       "    .dataframe thead th {\n",
       "        text-align: right;\n",
       "    }\n",
       "</style>\n",
       "<table border=\"1\" class=\"dataframe\">\n",
       "  <thead>\n",
       "    <tr style=\"text-align: right;\">\n",
       "      <th></th>\n",
       "      <th>flags</th>\n",
       "      <th>reasons</th>\n",
       "      <th>referralId</th>\n",
       "      <th>venue</th>\n",
       "    </tr>\n",
       "  </thead>\n",
       "  <tbody>\n",
       "    <tr>\n",
       "      <th>0</th>\n",
       "      <td>NaN</td>\n",
       "      <td>{'count': 0, 'items': [{'summary': 'This spot ...</td>\n",
       "      <td>e-0-4ca90ce0b7106dcba8ee78a5-0</td>\n",
       "      <td>{'id': '4ca90ce0b7106dcba8ee78a5', 'name': 'Di...</td>\n",
       "    </tr>\n",
       "    <tr>\n",
       "      <th>1</th>\n",
       "      <td>{'outsideRadius': True}</td>\n",
       "      <td>{'count': 0, 'items': [{'summary': 'This spot ...</td>\n",
       "      <td>e-0-4a8f1db7f964a520051420e3-1</td>\n",
       "      <td>{'id': '4a8f1db7f964a520051420e3', 'name': 'Oa...</td>\n",
       "    </tr>\n",
       "    <tr>\n",
       "      <th>2</th>\n",
       "      <td>{'outsideRadius': True}</td>\n",
       "      <td>{'count': 0, 'items': [{'summary': 'This spot ...</td>\n",
       "      <td>e-0-5531948a498e944a9eeaa5c5-2</td>\n",
       "      <td>{'id': '5531948a498e944a9eeaa5c5', 'name': 'Yo...</td>\n",
       "    </tr>\n",
       "    <tr>\n",
       "      <th>3</th>\n",
       "      <td>{'outsideRadius': True}</td>\n",
       "      <td>{'count': 0, 'items': [{'summary': 'This spot ...</td>\n",
       "      <td>e-0-5576203b498ec58f872ecab2-3</td>\n",
       "      <td>{'id': '5576203b498ec58f872ecab2', 'name': 'Bu...</td>\n",
       "    </tr>\n",
       "    <tr>\n",
       "      <th>4</th>\n",
       "      <td>{'outsideRadius': True}</td>\n",
       "      <td>{'count': 0, 'items': [{'summary': 'This spot ...</td>\n",
       "      <td>e-0-54c05987498eb9899e7e6459-4</td>\n",
       "      <td>{'id': '54c05987498eb9899e7e6459', 'name': 'Sh...</td>\n",
       "    </tr>\n",
       "  </tbody>\n",
       "</table>\n",
       "</div>"
      ],
      "text/plain": [
       "                     flags                                            reasons  \\\n",
       "0                      NaN  {'count': 0, 'items': [{'summary': 'This spot ...   \n",
       "1  {'outsideRadius': True}  {'count': 0, 'items': [{'summary': 'This spot ...   \n",
       "2  {'outsideRadius': True}  {'count': 0, 'items': [{'summary': 'This spot ...   \n",
       "3  {'outsideRadius': True}  {'count': 0, 'items': [{'summary': 'This spot ...   \n",
       "4  {'outsideRadius': True}  {'count': 0, 'items': [{'summary': 'This spot ...   \n",
       "\n",
       "                       referralId  \\\n",
       "0  e-0-4ca90ce0b7106dcba8ee78a5-0   \n",
       "1  e-0-4a8f1db7f964a520051420e3-1   \n",
       "2  e-0-5531948a498e944a9eeaa5c5-2   \n",
       "3  e-0-5576203b498ec58f872ecab2-3   \n",
       "4  e-0-54c05987498eb9899e7e6459-4   \n",
       "\n",
       "                                               venue  \n",
       "0  {'id': '4ca90ce0b7106dcba8ee78a5', 'name': 'Di...  \n",
       "1  {'id': '4a8f1db7f964a520051420e3', 'name': 'Oa...  \n",
       "2  {'id': '5531948a498e944a9eeaa5c5', 'name': 'Yo...  \n",
       "3  {'id': '5576203b498ec58f872ecab2', 'name': 'Bu...  \n",
       "4  {'id': '54c05987498eb9899e7e6459', 'name': 'Sh...  "
      ]
     },
     "execution_count": 8,
     "metadata": {},
     "output_type": "execute_result"
    }
   ],
   "source": [
    "import pandas as pd\n",
    "pd.DataFrame(results).head()"
   ]
  },
  {
   "cell_type": "code",
   "execution_count": null,
   "metadata": {},
   "outputs": [],
   "source": []
  }
 ],
 "metadata": {
  "kernelspec": {
   "display_name": "Python 3",
   "language": "python",
   "name": "python3"
  },
  "language_info": {
   "codemirror_mode": {
    "name": "ipython",
    "version": 3
   },
   "file_extension": ".py",
   "mimetype": "text/x-python",
   "name": "python",
   "nbconvert_exporter": "python",
   "pygments_lexer": "ipython3",
   "version": "3.7.1"
  }
 },
 "nbformat": 4,
 "nbformat_minor": 2
}
